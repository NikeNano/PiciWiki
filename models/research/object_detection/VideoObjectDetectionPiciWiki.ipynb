{
 "cells": [
  {
   "cell_type": "code",
   "execution_count": null,
   "metadata": {},
   "outputs": [],
   "source": [
    "#import tkinter as tk, threading\n",
    "#mkTkinter\n",
    "import mkTkinter as tk, threading\n",
    "import imageio\n",
    "from PIL import Image, ImageTk\n",
    "\n",
    "imageio.plugins.ffmpeg.download()\n",
    "import wave\n",
    "import os\n",
    "import datetime\n",
    "from time import sleep\n",
    "\n",
    "print(\"Import done\")"
   ]
  },
  {
   "cell_type": "code",
   "execution_count": null,
   "metadata": {},
   "outputs": [],
   "source": [
    "import time\n",
    "from threading import Thread\n",
    "\n",
    "def sleeper(i):\n",
    "    print (\"thread %d sleeps for 5 seconds\" % i)\n",
    "    time.sleep(5)\n",
    "    print (\"thread %d woke up\" % i)\n",
    "\n",
    "for i in range(10):\n",
    "    t = Thread(target=sleeper, args=(i,))\n",
    "    t.start()\n",
    "print(\"Done\")"
   ]
  },
  {
   "cell_type": "code",
   "execution_count": null,
   "metadata": {},
   "outputs": [],
   "source": [
    "\n",
    "\n",
    "video_name = \"TestVideo/SampleVideo2.mkv\" #This is your video file path\n",
    "video = imageio.get_reader(video_name)\n",
    "print(\"The video includes {} nbr of images\".format(sum(1 for _ in video.iter_data())))\n",
    "# The video containes 5226 images. \n",
    "# Then is should work as before! \n",
    "def stream(label):\n",
    "\n",
    "    for index,image in enumerate(video.iter_data()):\n",
    "        #print(index)\n",
    "        frame_image = ImageTk.PhotoImage(Image.fromarray(image))\n",
    "        label.config(image=frame_image)\n",
    "        label.image = frame_image\n",
    "\n",
    "        \n",
    "if __name__ == \"__main__\":\n",
    "\n",
    "    root = tk.Tk()\n",
    "    my_label = tk.Label(root)\n",
    "    my_label.pack()\n",
    "    thread = threading.Thread(target=stream, args=(my_label,))\n",
    "    thread.daemon = 1\n",
    "    thread.start()\n",
    "    root.mainloop()"
   ]
  },
  {
   "cell_type": "code",
   "execution_count": 44,
   "metadata": {},
   "outputs": [
    {
     "name": "stdout",
     "output_type": "stream",
     "text": [
      "start\n",
      "0\n",
      "1\n",
      "2\n",
      "3\n",
      "4\n",
      "5\n",
      "6\n",
      "7\n",
      "8\n",
      "9\n",
      "10\n",
      "11\n",
      "The data is saved to a dit now!\n",
      "[array([], dtype=float64), array([], dtype=float64), array([], dtype=float64), array([], dtype=float64), array([], dtype=float64), array([], dtype=float64), array([], dtype=float64), array([], dtype=float64), array([], dtype=float64), array([], dtype=float64), array([], dtype=float64), array([], dtype=float64)]\n"
     ]
    }
   ],
   "source": [
    "import tkinter as tk\n",
    "import threading\n",
    "import imageio\n",
    "import os\n",
    "import time\n",
    "import numpy as np\n",
    "from PIL import Image, ImageTk\n",
    "from Interactive import Interactive \n",
    "from IPython import embed\n",
    "import csv\n",
    "video_name = \"TestVideo/HM.mp4\" #This is your video file path\n",
    "video = imageio.get_reader(video_name)\n",
    "print(\"start\")\n",
    "\n",
    "def saveDict(dictToSave,fileName):\n",
    "    w = csv.writer(open(fileName, \"w\"))\n",
    "    for key, val in dictToSave.items():\n",
    "        w.writerow([key, val])\n",
    "\n",
    "def objectDetectionImagesInFilm():\n",
    "    \n",
    "    resultList=[]\n",
    "    model = Interactive()\n",
    "    start_time=time.time()\n",
    "    objectDict= {}\n",
    "    for index,image in enumerate(video.iter_data()):\n",
    "        print(index)\n",
    "        image_frame = Image.fromarray(image)          \n",
    "        image_frame.save('FRAMES/frame%d.png' % index)\n",
    "        PATH_TO_TEST_IMAGES_DIR='FRAMES'\n",
    "        TEST_IMAGE_PATH = [ os.path.join(PATH_TO_TEST_IMAGES_DIR, 'frame%d.png' % index)]\n",
    "        results = model.objectDetection(TEST_IMAGE_PATH)\n",
    "        #print(results)\n",
    "        results = np.squeeze(results)\n",
    "        objectDict['frame%d.png' % index] = results\n",
    "        resultList.append(results)\n",
    "        if index>10 : break\n",
    "    saveDict(objectDict,'output.csv')\n",
    "    #print(objectDict)\n",
    "    print(\"The data is saved to a dit now!\")\n",
    "    return (resultList)\n",
    "    \n",
    "print(objectDetectionImagesInFilm())\n"
   ]
  },
  {
   "cell_type": "code",
   "execution_count": 46,
   "metadata": {},
   "outputs": [
    {
     "name": "stdout",
     "output_type": "stream",
     "text": [
      "[]\n"
     ]
    }
   ],
   "source": [
    "import csv\n",
    "dict = {}\n",
    "for key, val in csv.reader(open(\"output.csv\")):\n",
    "    dict[key] = val\n",
    "print(dict['frame1.png'])"
   ]
  },
  {
   "cell_type": "code",
   "execution_count": 2,
   "metadata": {},
   "outputs": [
    {
     "name": "stdout",
     "output_type": "stream",
     "text": [
      "hellor\n"
     ]
    }
   ],
   "source": [
    "\n",
    "def stream(label):\n",
    "\n",
    "    frame = 0\n",
    "    for image in video.iter_data():\n",
    "        frame += 1                                    #counter to save new frame number\n",
    "        image_frame = Image.fromarray(image)          \n",
    "        image_frame.save('FRAMES/frame_%d.png' % frame)      #if you need the frame you can save each frame to hd\n",
    "        frame_image = ImageTk.PhotoImage(image_frame)\n",
    "        label.config(image=frame_image)\n",
    "        label.image = frame_image\n",
    "        #if frame == 40: break                         #after 40 frames stop, or remove this line for the entire video\n",
    "\n",
    "if __name__ == \"__main__\":\n",
    "\n",
    "    root = tk.Tk()\n",
    "    my_label = tk.Label(root)\n",
    "    my_label.pack()\n",
    "    thread = threading.Thread(target=stream, args=(my_label,))\n",
    "    thread.daemon = 1\n",
    "    thread.start()\n",
    "    root.mainloop()print(\"hellor\")"
   ]
  },
  {
   "cell_type": "code",
   "execution_count": 3,
   "metadata": {},
   "outputs": [
    {
     "name": "stdout",
     "output_type": "stream",
     "text": [
      "The cpumpation for 2 minutes video is 258.0\n"
     ]
    }
   ],
   "source": [
    "time_per_image=4.3\n",
    "images_per_second=30\n",
    "conputation_time_per_second=time_per_image*images_per_second\n",
    "computation_time_2_minutes_video=conputation_time_per_second*60*2\n",
    "print(\"The cpumpation for 2 minutes video is {}\".format(computation_time_2_minutes_video/60))"
   ]
  },
  {
   "cell_type": "code",
   "execution_count": null,
   "metadata": {},
   "outputs": [],
   "source": []
  },
  {
   "cell_type": "code",
   "execution_count": null,
   "metadata": {},
   "outputs": [],
   "source": []
  }
 ],
 "metadata": {
  "anaconda-cloud": {},
  "kernelspec": {
   "display_name": "Python 3",
   "language": "python",
   "name": "python3"
  },
  "language_info": {
   "codemirror_mode": {
    "name": "ipython",
    "version": 3
   },
   "file_extension": ".py",
   "mimetype": "text/x-python",
   "name": "python",
   "nbconvert_exporter": "python",
   "pygments_lexer": "ipython3",
   "version": "3.5.1"
  }
 },
 "nbformat": 4,
 "nbformat_minor": 2
}
