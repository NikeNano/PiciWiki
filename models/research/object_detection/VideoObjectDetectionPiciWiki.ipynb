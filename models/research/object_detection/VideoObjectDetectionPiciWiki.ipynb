{
 "cells": [
  {
   "cell_type": "code",
   "execution_count": null,
   "metadata": {},
   "outputs": [],
   "source": [
    "#import tkinter as tk, threading\n",
    "#mkTkinter\n",
    "import mkTkinter as tk, threading\n",
    "import imageio\n",
    "from PIL import Image, ImageTk\n",
    "\n",
    "imageio.plugins.ffmpeg.download()\n",
    "import wave\n",
    "import os\n",
    "import datetime\n",
    "from time import sleep\n",
    "\n",
    "print(\"Import done\")"
   ]
  },
  {
   "cell_type": "code",
   "execution_count": 1,
   "metadata": {},
   "outputs": [
    {
     "name": "stdout",
     "output_type": "stream",
     "text": [
      "hellohello\n",
      "rect[0] clicked\n",
      "rect[0] clicked\n",
      "rect[0] clicked\n",
      "rect[1] clicked\n",
      "rect[1] clicked\n",
      "rect[1] clicked\n"
     ]
    },
    {
     "name": "stderr",
     "output_type": "stream",
     "text": [
      "Exception in thread Thread-5:\n",
      "Traceback (most recent call last):\n",
      "  File \"/Library/Frameworks/Python.framework/Versions/3.5/lib/python3.5/threading.py\", line 914, in _bootstrap_inner\n",
      "    self.run()\n",
      "  File \"/Library/Frameworks/Python.framework/Versions/3.5/lib/python3.5/threading.py\", line 862, in run\n",
      "    self._target(*self._args, **self._kwargs)\n",
      "  File \"<ipython-input-1-e1862cffcd99>\", line 49, in stream\n",
      "    frame_image = ImageTk.PhotoImage(image_frame)\n",
      "  File \"/Library/Frameworks/Python.framework/Versions/3.5/lib/python3.5/site-packages/PIL/ImageTk.py\", line 112, in __init__\n",
      "    self.__photo = tkinter.PhotoImage(**kw)\n",
      "  File \"/Library/Frameworks/Python.framework/Versions/3.5/lib/python3.5/tkinter/__init__.py\", line 3393, in __init__\n",
      "    Image.__init__(self, 'photo', name, cnf, master, **kw)\n",
      "  File \"/Library/Frameworks/Python.framework/Versions/3.5/lib/python3.5/tkinter/__init__.py\", line 3334, in __init__\n",
      "    raise RuntimeError('Too early to create image')\n",
      "RuntimeError: Too early to create image\n",
      "\n",
      "Exception ignored in: <bound method PhotoImage.__del__ of <PIL.ImageTk.PhotoImage object at 0x109f31be0>>\n",
      "Traceback (most recent call last):\n",
      "  File \"/Library/Frameworks/Python.framework/Versions/3.5/lib/python3.5/site-packages/PIL/ImageTk.py\", line 118, in __del__\n",
      "    name = self.__photo.name\n",
      "AttributeError: 'PhotoImage' object has no attribute '_PhotoImage__photo'\n"
     ]
    }
   ],
   "source": [
    "import tkinter as tk\n",
    "import threading\n",
    "import imageio\n",
    "import os\n",
    "import time\n",
    "import numpy as np\n",
    "import csv\n",
    "from PIL import Image, ImageTk\n",
    "from IPython import embed\n",
    "from collections import namedtuple\n",
    "from Similarity import BuildBase\n",
    "\n",
    "\n",
    "video_name = \"TestVideo/HM.mp4\" #This is your video file path\n",
    "video = imageio.get_reader(video_name)\n",
    "\n",
    "class ImageMapper(object):\n",
    "    # Class to se if we have clicked within the react areas\n",
    "    \n",
    "    def setImage(self, img_rects):\n",
    "        # Set the image react areas.\n",
    "        # Image reacts are a list of reacts\n",
    "        self.img_rects = img_rects\n",
    "        \n",
    "    def find_rect(self, x, y):\n",
    "        # Checks if we have clicked within a react area\n",
    "        for i, r in enumerate(self.img_rects):\n",
    "            if (r.x0 <= x <= r.x1) and (r.y0 <= y <= r.y1):\n",
    "                return [i,x0,y0,x1,y1]\n",
    "        return None\n",
    "\n",
    "class interactiveVideo():\n",
    "    # The interactive video player\n",
    "    image_reacts=[]\n",
    "    Rect = namedtuple('Rect', 'x0, y0, x1, y1')\n",
    "    similarityModel=BuildBase()\n",
    "    self.setBaseImages()\n",
    "    \n",
    "    def __init__(self):\n",
    "        # initiates the window\n",
    "        self.root = tk.Tk()\n",
    "        my_label = tk.Label(self.root)\n",
    "        my_button = tk.Button(self.root,text='Quit', command=self.printOut())\n",
    "        my_label.pack()\n",
    "        thread = threading.Thread(target=self.stream, args=(my_label,my_button,))\n",
    "        thread.daemon = 1\n",
    "        thread.start()\n",
    "        self.root.mainloop()\n",
    "    \n",
    "    def setBaseImages():\n",
    "        # Sets the image which we are comparing with\n",
    "        PATH_TO_GARMENT_IMAGES_DIR='Garment' # Garment folder\n",
    "        GARMENT_PATHS = [ os.path.join(PATH_TO_TEST_IMAGES_DIR, 'Garment{}.jpg'.format(i)) for i in range(0, 4) ]\n",
    "        self.similarityModel.setImagePathCloths(GARMENT_PATHS)\n",
    "        \n",
    "    def stream(self,label,my_button):\n",
    "        # Video stream \n",
    "        self.frame = 0\n",
    "        self.imagemapper=ImageMapper()\n",
    "        for image in video.iter_data():\n",
    "            self.frame += 1                                    #counter to save new frame number\n",
    "            image_frame = Image.fromarray(image)          \n",
    "            image_frame.save('FRAMES/frame_%d.png' % self.frame)      #if you need the frame you can save each frame to hd\n",
    "            frame_image = ImageTk.PhotoImage(image_frame)\n",
    "            label.config(image=frame_image)\n",
    "            label.image = frame_image\n",
    "            label.bind('<Button-1>', self.image_click)\n",
    "            label.grid(row=1, column=0)\n",
    "            my_button.grid(row=2, column=0)\n",
    "            #if frame == 40: break\n",
    "            \n",
    "    def setReact(self,image_rects):\n",
    "        # Set the react areas that\n",
    "        # This function is not used\n",
    "        for image_react in image_rects:\n",
    "            self.image_reacts.append(image_react)\n",
    "            \n",
    "    def readReact(self,reacts):\n",
    "        # This reads the react \n",
    "        # Most here will be changed\n",
    "        my_Rect=[]\n",
    "        # Read in the correct reacts for the images.....\n",
    "        PATH_TO_TEST_IMAGES_DIR = 'FRAMES'\n",
    "        TEST_IMAGE_PATH = [os.path.join(PATH_TO_TEST_IMAGES_DIR, 'frame_%d.png' % self.frame)]\n",
    "        image = Image.open('FRAMES/frame_%d.png' % int(self.frame-1))\n",
    "        image = ImageTk.PhotoImage(image)\n",
    "        \n",
    "        rect1 =self.Rect(0,0,image.width()/2, image.height()/2)\n",
    "        rect2 =self.Rect(0,image.height()/2,image.width()/2, image.height())\n",
    "        my_Rect.append(rect1)\n",
    "        my_Rect.append(rect2)\n",
    "        return my_Rect\n",
    "        \n",
    "    def image_click(self, event):\n",
    "        # Function called when we click the image\n",
    "        my_Rect=self.readReact(self.frame-1)\n",
    "        self.imagemapper.setImage(my_Rect)\n",
    "        hit = self.imagemapper.find_rect(event.x, event.y)\n",
    "        print(('{} clicked'.format('nothing' if hit is None else 'rect[{}]'.format(hit[0]))))\n",
    "        cropArea=[hit[0],hit[1],hit[2],hit[3]]\n",
    "        self.cropImage(cropArea)\n",
    "        self.similarityModel.getSimilaririesForList()\n",
    "        ## Need to continue here\n",
    "        \n",
    "    def cropImage(self, crop_area):\n",
    "        # This method crops the image and sets the image to \n",
    "        # the similarity model. \n",
    "        PATH_TO_TEST_IMAGES_DIR = 'FRAMES'\n",
    "        IMAGE_TO_CROP_PATH = [os.path.join(PATH_TO_TEST_IMAGES_DIR, 'frame_%d.png' % self.frame-1)]\n",
    "        img=Image.open(# The correct image)\n",
    "        image_cropped = img.crop(IMAGE_TO_CROP_PATH)\n",
    "        width, height = img.size\n",
    "        image_cropped.save(\"PicturesTest/out.jpg\", \"JPEG\")\n",
    "        EXTRACTED_IMAGE_PATH = ['PicturesTest/out.jpg']\n",
    "        self.similarityModel.setImageExtracted(EXTRACTED_IMAGE_PATH)\n",
    "\n",
    "        \n",
    "        \n",
    "    def printOut(self):\n",
    "        print(\"hellohello\")\n",
    "            \n",
    "if __name__ == \"__main__\":\n",
    "    a=interactiveVideo()\n"
   ]
  },
  {
   "cell_type": "code",
   "execution_count": 12,
   "metadata": {},
   "outputs": [
    {
     "name": "stdout",
     "output_type": "stream",
     "text": [
      "['FRAMES/Garment0.jpg', 'FRAMES/Garment1.jpg', 'FRAMES/Garment2.jpg', 'FRAMES/Garment3.jpg']\n"
     ]
    }
   ],
   "source": [
    "PATH_TO_TEST_IMAGES_DIR='FRAMES'\n",
    "TEST_IMAGE_PATH = [ os.path.join(PATH_TO_TEST_IMAGES_DIR, 'Garment{}.jpg'.format(i)) for i in range(0, 4) ]\n",
    "print(TEST_IMAGE_PATH)"
   ]
  },
  {
   "cell_type": "code",
   "execution_count": 21,
   "metadata": {},
   "outputs": [
    {
     "name": "stdout",
     "output_type": "stream",
     "text": [
      "frame_5.png\n"
     ]
    }
   ],
   "source": [
    "frame=5\n",
    "myimage=('frame_%d.png'% frame)\n",
    "print(myimage)"
   ]
  },
  {
   "cell_type": "code",
   "execution_count": 24,
   "metadata": {},
   "outputs": [],
   "source": [
    "frame=5\n",
    "PATH_TO_TEST_IMAGES_DIR = 'FRAMES'\n",
    "TEST_IMAGE_PATH = [ os.path.join(PATH_TO_TEST_IMAGES_DIR,'frame_%d.png'% frame ) ]\n",
    "                                         "
   ]
  },
  {
   "cell_type": "code",
   "execution_count": null,
   "metadata": {},
   "outputs": [],
   "source": []
  }
 ],
 "metadata": {
  "anaconda-cloud": {},
  "kernelspec": {
   "display_name": "Python 3",
   "language": "python",
   "name": "python3"
  },
  "language_info": {
   "codemirror_mode": {
    "name": "ipython",
    "version": 3
   },
   "file_extension": ".py",
   "mimetype": "text/x-python",
   "name": "python",
   "nbconvert_exporter": "python",
   "pygments_lexer": "ipython3",
   "version": "3.5.1"
  }
 },
 "nbformat": 4,
 "nbformat_minor": 2
}
