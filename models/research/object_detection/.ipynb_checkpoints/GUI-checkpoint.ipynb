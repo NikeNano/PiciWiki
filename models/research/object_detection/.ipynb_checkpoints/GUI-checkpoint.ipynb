{
 "cells": [
  {
   "cell_type": "code",
   "execution_count": 2,
   "metadata": {},
   "outputs": [],
   "source": [
    "import tkinter"
   ]
  },
  {
   "cell_type": "code",
   "execution_count": 17,
   "metadata": {},
   "outputs": [],
   "source": [
    "def hide_me(event):\n",
    "    event.widget.pack_forget()"
   ]
  },
  {
   "cell_type": "code",
   "execution_count": 1,
   "metadata": {},
   "outputs": [
    {
     "ename": "NameError",
     "evalue": "name 'Toplevel' is not defined",
     "output_type": "error",
     "traceback": [
      "\u001b[0;31m---------------------------------------------------------------------------\u001b[0m",
      "\u001b[0;31mNameError\u001b[0m                                 Traceback (most recent call last)",
      "\u001b[0;32m<ipython-input-1-036a06830ace>\u001b[0m in \u001b[0;36m<module>\u001b[0;34m()\u001b[0m\n\u001b[1;32m     18\u001b[0m         \u001b[0mprint\u001b[0m\u001b[0;34m(\u001b[0m\u001b[0;34m\"Greetings!\"\u001b[0m\u001b[0;34m)\u001b[0m\u001b[0;34m\u001b[0m\u001b[0m\n\u001b[1;32m     19\u001b[0m \u001b[0;34m\u001b[0m\u001b[0m\n\u001b[0;32m---> 20\u001b[0;31m \u001b[0mroot\u001b[0m \u001b[0;34m=\u001b[0m \u001b[0mToplevel\u001b[0m\u001b[0;34m(\u001b[0m\u001b[0;34m)\u001b[0m\u001b[0;34m\u001b[0m\u001b[0m\n\u001b[0m\u001b[1;32m     21\u001b[0m \u001b[0mroot\u001b[0m\u001b[0;34m.\u001b[0m\u001b[0mresizable\u001b[0m\u001b[0;34m(\u001b[0m\u001b[0mwidth\u001b[0m\u001b[0;34m=\u001b[0m\u001b[0;32mFalse\u001b[0m\u001b[0;34m,\u001b[0m \u001b[0mheight\u001b[0m\u001b[0;34m=\u001b[0m\u001b[0;32mFalse\u001b[0m\u001b[0;34m)\u001b[0m\u001b[0;34m\u001b[0m\u001b[0m\n\u001b[1;32m     22\u001b[0m \u001b[0mroot\u001b[0m\u001b[0;34m.\u001b[0m\u001b[0mgeometry\u001b[0m\u001b[0;34m(\u001b[0m\u001b[0;34m\"500x500\"\u001b[0m\u001b[0;34m)\u001b[0m\u001b[0;34m\u001b[0m\u001b[0m\n",
      "\u001b[0;31mNameError\u001b[0m: name 'Toplevel' is not defined"
     ]
    }
   ],
   "source": [
    "from tkinter import Tk, Label, Button\n",
    "\n",
    "class MyFirstGUI:\n",
    "    def __init__(self, master):\n",
    "        self.master = master\n",
    "        master.title(\"A simple GUI\")\n",
    "\n",
    "        self.label = Label(master, text=\"This is our first GUI!\")\n",
    "        self.label.pack()\n",
    "\n",
    "        self.greet_button = Button(master, text=\"Greet\", command=self.greet)\n",
    "        self.greet_button.pack()\n",
    "\n",
    "        self.close_button = Button(master, text=\"Close\", command=master.quit)\n",
    "        self.close_button.pack()\n",
    "\n",
    "    def greet(self):\n",
    "        print(\"Greetings!\")\n",
    "\n",
    "root = Toplevel()\n",
    "root.resizable(width=False, height=False)\n",
    "root.geometry(\"500x500\")\n",
    "image = Image.open('test_images/image1.jpg')\n",
    "photo_image = ImageTk.PhotoImage(image)\n",
    "label = tk.Label(root, image = photo_image)\n",
    "label.pack()\n",
    "quitButton = Button(root, text=\"Quit\")\n",
    "quitButton.place(x=200, y=200)\n",
    "#my_gui = MyFirstGUI(root)\n",
    "root.mainloop() "
   ]
  },
  {
   "cell_type": "code",
   "execution_count": null,
   "metadata": {},
   "outputs": [],
   "source": []
  },
  {
   "cell_type": "code",
   "execution_count": null,
   "metadata": {},
   "outputs": [],
   "source": []
  },
  {
   "cell_type": "raw",
   "metadata": {},
   "source": []
  },
  {
   "cell_type": "code",
   "execution_count": 41,
   "metadata": {},
   "outputs": [
    {
     "name": "stdout",
     "output_type": "stream",
     "text": [
      "Show event triggered by <class 'tkinter.Tk'>\n",
      "Master container is None\n",
      "Show event triggered by <class 'tkinter.Button'>\n",
      "Master container is .\n"
     ]
    }
   ],
   "source": [
    "try:\n",
    "    import tkinter as TK\n",
    "except ImportError:\n",
    "    import Tkinter as TK\n",
    "\n",
    "root = TK.Tk()\n",
    "root.geometry(\"400x300\")\n",
    "root.overrideredirect(True)\n",
    "button = TK.Button(root, text=\"HI\", command=root.destroy)\n",
    "\n",
    "\n",
    "def Show(event):\n",
    "    print('Show event triggered by %s' % event.widget.__class__)\n",
    "    print('Master container is %s' % event.widget.master)\n",
    "\n",
    "    if event.widget.master is None:\n",
    "        button.place(x=0, y=0, width=60, height=30)\n",
    "\n",
    "\n",
    "def Hide(event):\n",
    "    print('Hide event triggered by %s' % event.widget.__class__)\n",
    "    print('Master container is %s' % event.widget.master)\n",
    "\n",
    "    if event.widget.master is None:\n",
    "        button.place_forget()\n",
    "\n",
    "\n",
    "root.bind(\"<Enter>\", Show)\n",
    "root.bind(\"<Leave>\", Hide)\n",
    "\n",
    "root.mainloop()"
   ]
  },
  {
   "cell_type": "code",
   "execution_count": 8,
   "metadata": {},
   "outputs": [],
   "source": [
    "import tkinter\n",
    "from PIL import Image, ImageTk, ImageDraw\n",
    "#import Image, ImageTk, ImageDraw\n",
    "\n",
    "image_file = \"test_images/image1.jpg\"\n",
    "\n",
    "w = tkinter.Toplevel()\n",
    "\n",
    "img = Image.open(image_file)\n",
    "width, height = img.size\n",
    "ca = tkinter.Canvas(w, width=width, height=height)\n",
    "ca.pack()\n",
    "photoimg = ImageTk.PhotoImage(\"RGB\", img.size)\n",
    "photoimg.paste(img)\n",
    "ca.create_image(width//2,height//2, image=photoimg)\n",
    "tkinter.mainloop()"
   ]
  },
  {
   "cell_type": "code",
   "execution_count": 11,
   "metadata": {},
   "outputs": [
    {
     "name": "stdout",
     "output_type": "stream",
     "text": [
      "1024 636\n",
      "967 240\n",
      "Dog2\n",
      "808 249\n",
      "Dog2\n",
      "218 209\n",
      "Dog1\n",
      "222 294\n",
      "Dog1\n",
      "661 278\n",
      "Dog2\n",
      "160 178\n",
      "Dog1\n",
      "468 190\n",
      "Dog2\n"
     ]
    }
   ],
   "source": [
    "from collections import namedtuple\n",
    "import tkinter as tk\n",
    "\n",
    "Rect = namedtuple('Rect', 'x0, y0, x1, y1')\n",
    "\n",
    "class ImageMapper(object):\n",
    "    def __init__(self, image, img_rects):\n",
    "        self.width, self.height = image.width(), image.height()\n",
    "        print(self.width, self.height)\n",
    "        self.img_rects = img_rects\n",
    "        \n",
    "    def find_rect(self, x, y):\n",
    "        print(x,y)\n",
    "        for i, r in enumerate(self.img_rects):\n",
    "            if (r.x0 <= x <= r.x1) and (r.y0 <= y <= r.y1):\n",
    "                return i\n",
    "        return None\n",
    "\n",
    "class Demo(tk.Frame):\n",
    "    image_reacts=[]\n",
    "    Rect = namedtuple('Rect', 'x0, y0, x1, y1')\n",
    "    def __init__(self, master=None):\n",
    "        tk.Frame.__init__(self, master)\n",
    "        self.grid()\n",
    "        self.create_widgets()\n",
    "        self.setReact([Rect(24, 24, 326, 548), Rect(401, 63, 996, 609)])\n",
    "    \n",
    "    def setReact(self,image_rects):\n",
    "        for image_react in image_rects:\n",
    "            self.image_reacts.append(image_react)\n",
    "        \n",
    "\n",
    "    def create_widgets(self):\n",
    "        self.msg_text = tk.StringVar()\n",
    "        self.msg = tk.Message(self, textvariable=self.msg_text, width=100)\n",
    "        self.msg.grid(row=0, column=0)\n",
    "\n",
    "        self.picture = tk.PhotoImage(file='image1.gif')\n",
    "                        # 'x0, y0, x1, y1'\n",
    "        #img_rects = [Rect(24, 24, 326, 548),\n",
    "                     #Rect(401, 63, 996, 609)]\n",
    "        #self.imagemapper = ImageMapper(self.picture, img_rects)\n",
    "        self.imagemapper = ImageMapper(self.picture, self.image_reacts)\n",
    "        # use Label widget to display image\n",
    "        self.image = tk.Label(self, image=self.picture, borderwidth=0)\n",
    "        self.image.bind('<Button-1>', self.image_click)\n",
    "        self.image.grid(row=1, column=0)\n",
    "\n",
    "        self.quitButton = tk.Button(self, text='Quit', command=self.quit)\n",
    "        self.quitButton.grid(row=2, column=0)\n",
    "\n",
    "    def image_click(self, event):\n",
    "        hit = self.imagemapper.find_rect(event.x, event.y)\n",
    "        self.msg_text.set('{} clicked'.format('nothing' if hit is None else\n",
    "                                              'rect[{}]'.format(hit)))\n",
    "        if (hit==0):\n",
    "            print(\"Dog1\")\n",
    "        if (hit ==1):\n",
    "            print(\"Dog2\")\n",
    "\n",
    "app = Demo()\n",
    "app.master.title('Image Mapper')\n",
    "app.mainloop()"
   ]
  },
  {
   "cell_type": "code",
   "execution_count": null,
   "metadata": {},
   "outputs": [],
   "source": []
  }
 ],
 "metadata": {
  "kernelspec": {
   "display_name": "Python 3",
   "language": "python",
   "name": "python3"
  },
  "language_info": {
   "codemirror_mode": {
    "name": "ipython",
    "version": 3
   },
   "file_extension": ".py",
   "mimetype": "text/x-python",
   "name": "python",
   "nbconvert_exporter": "python",
   "pygments_lexer": "ipython3",
   "version": "3.5.1"
  }
 },
 "nbformat": 4,
 "nbformat_minor": 2
}
